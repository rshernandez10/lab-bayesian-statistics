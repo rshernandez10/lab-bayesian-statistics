{
 "cells": [
  {
   "cell_type": "markdown",
   "metadata": {},
   "source": [
    "# Intro to Bayesian Statistics Lab\n",
    "\n",
    "Complete the following set of exercises to solidify your knowledge of Bayesian statistics and Bayesian data analysis."
   ]
  },
  {
   "cell_type": "code",
   "execution_count": 1,
   "metadata": {},
   "outputs": [],
   "source": [
    "import pandas as pd\n",
    "import numpy as np\n",
    "import matplotlib.pyplot as plt"
   ]
  },
  {
   "cell_type": "markdown",
   "metadata": {},
   "source": [
    "## 1. Cookie Problem\n",
    "\n",
    "Suppose we have two bowls of cookies. Bowl 1 contains 30 vanilla cookies and 10 chocolate cookies. Bowl 2 contains 20 of each. You randomly pick one cookie out of one of the bowls, and it is vanilla. Use Bayes Theorem to calculate the probability that the vanilla cookie you picked came from Bowl 1?"
   ]
  },
  {
   "cell_type": "code",
   "execution_count": 2,
   "metadata": {},
   "outputs": [
    {
     "name": "stdout",
     "output_type": "stream",
     "text": [
      "La probailidad de que la galleta de vainilla venga del bolw 1 es de 60.0%\n"
     ]
    }
   ],
   "source": [
    "# Bowl 1: Galleta de vainilla 30 - 10 chocolate\n",
    "# Bowl 2: Galleta de vainilla 20 - 20 chocolate\n",
    "\n",
    "# Evento A = Vainilla\n",
    "# Evento B = Bowl 1\n",
    "\n",
    "# Probabilidad de que A venga de b -- P(B|A)\n",
    "\n",
    "# P(A|B) * P(B)\n",
    "numerador = (30/40)*0.5\n",
    "denominador = (50/80)\n",
    "\n",
    "probabilidad = numerador/denominador\n",
    "print(f'La probailidad de que la galleta de vainilla venga del bolw 1 es de {(probabilidad)*100}%')"
   ]
  },
  {
   "cell_type": "markdown",
   "metadata": {},
   "source": [
    "What is the probability that it came from Bowl 2?"
   ]
  },
  {
   "cell_type": "code",
   "execution_count": 3,
   "metadata": {},
   "outputs": [
    {
     "name": "stdout",
     "output_type": "stream",
     "text": [
      "La probailidad de que la galleta de vainilla venga del bolw 2 es de 40.0%\n"
     ]
    }
   ],
   "source": [
    "# Evento A = Vainilla\n",
    "# Evento B = Bowl 2\n",
    "\n",
    "numerador = (20/40)*0.5\n",
    "denominador = (50/80)\n",
    "\n",
    "probabilidad = numerador/denominador\n",
    "print(f'La probailidad de que la galleta de vainilla venga del bolw 2 es de {(probabilidad)*100}%')"
   ]
  },
  {
   "cell_type": "markdown",
   "metadata": {},
   "source": [
    "What if the cookie you had picked was chocolate? What are the probabilities that the chocolate cookie came from Bowl 1 and Bowl 2 respectively?"
   ]
  },
  {
   "cell_type": "code",
   "execution_count": 4,
   "metadata": {},
   "outputs": [
    {
     "name": "stdout",
     "output_type": "stream",
     "text": [
      "La probailidad de que la galleta de chocolate venga del bolw 1 es de 33.33333333333333%\n"
     ]
    }
   ],
   "source": [
    "numerador = (10/40)*0.5\n",
    "denominador = (30/80)\n",
    "\n",
    "probabilidad = numerador/denominador\n",
    "print(f'La probailidad de que la galleta de chocolate venga del bolw 1 es de {(probabilidad)*100}%')"
   ]
  },
  {
   "cell_type": "code",
   "execution_count": 5,
   "metadata": {},
   "outputs": [
    {
     "name": "stdout",
     "output_type": "stream",
     "text": [
      "La probailidad de que la galleta de chocolate venga del bolw 2 es de 66.66666666666666%\n"
     ]
    }
   ],
   "source": [
    "numerador = (20/40)*0.5\n",
    "denominador = (30/80)\n",
    "\n",
    "probabilidad = numerador/denominador\n",
    "print(f'La probailidad de que la galleta de chocolate venga del bolw 2 es de {(probabilidad)*100}%')"
   ]
  },
  {
   "cell_type": "markdown",
   "metadata": {},
   "source": [
    "## 2. Candy Problem\n",
    "\n",
    "Suppose you have two bags of candies:\n",
    "\n",
    "- In Bag 1, the mix of colors is:\n",
    "    - Brown - 30%\n",
    "    - Yellow - 20%\n",
    "    - Red - 20%\n",
    "    - Green - 10%\n",
    "    - Orange - 10%\n",
    "    - Tan - 10%\n",
    "    \n",
    "- In Bag 2, the mix of colors is:\n",
    "    - Blue - 24%\n",
    "    - Green - 20%\n",
    "    - Orange - 16%\n",
    "    - Yellow - 14%\n",
    "    - Red - 13%\n",
    "    - Brown - 13%\n",
    "    \n",
    "Not knowing which bag is which, you randomly draw one candy from each bag. One is yellow and one is green. What is the probability that the yellow one came from the Bag 1?\n",
    "\n",
    "*Hint: For the likelihoods, you will need to multiply the probabilities of drawing yellow from one bag and green from the other bag and vice versa.*"
   ]
  },
  {
   "cell_type": "code",
   "execution_count": 11,
   "metadata": {},
   "outputs": [
    {
     "name": "stdout",
     "output_type": "stream",
     "text": [
      "Probabilidad de amarillo bolsa 1 74.07407407407408%\n"
     ]
    }
   ],
   "source": [
    "def bayes_rule(priors, likelihoods):\n",
    "    marg = sum(np.multiply(priors, likelihoods))\n",
    "    post = np.divide(np.multiply(priors, likelihoods), marg)\n",
    "    return post\n",
    "\n",
    "aprioris =[0.5, 0.5]\n",
    "# Primer escenario: MM Amarillo + bolsa 1 / MM Verde + bolsa 2\n",
    "# Segundo escenario: MM Amarillo + bolsa 2 / MM Verde + bolsa 1\n",
    "likelihoods = [0.2 * 0.2, 0.14 * 0.1]\n",
    "probabilidades = bayes_rule(aprioris, likelihoods)\n",
    "\n",
    "print(f'Probabilidad de amarillo bolsa 1 {probabilidades[0]*100}%')"
   ]
  },
  {
   "cell_type": "markdown",
   "metadata": {},
   "source": [
    "What is the probability that the yellow candy came from Bag 2?"
   ]
  },
  {
   "cell_type": "code",
   "execution_count": 13,
   "metadata": {},
   "outputs": [
    {
     "name": "stdout",
     "output_type": "stream",
     "text": [
      "Probabilidad de amarillo bolsa 2 25.925925925925924%\n"
     ]
    }
   ],
   "source": [
    "print(f'Probabilidad de amarillo bolsa 2 {probabilidades[1]*100}%')"
   ]
  },
  {
   "cell_type": "markdown",
   "metadata": {},
   "source": [
    "What are the probabilities that the green one came from Bag 1 and Bag 2 respectively?"
   ]
  },
  {
   "cell_type": "code",
   "execution_count": 12,
   "metadata": {},
   "outputs": [
    {
     "name": "stdout",
     "output_type": "stream",
     "text": [
      "Probabilidad de verde bolsa 1 25.925925925925924%\n",
      "Probabilidad de verde bolsa 2 74.07407407407408%\n"
     ]
    }
   ],
   "source": [
    "print(f'Probabilidad de verde bolsa 1 {probabilidades[1]*100}%')\n",
    "print(f'Probabilidad de verde bolsa 2 {probabilidades[0]*100}%')"
   ]
  },
  {
   "cell_type": "markdown",
   "metadata": {},
   "source": [
    "## 3. Monty Hall Problem\n",
    "\n",
    "Suppose you are a contestant on the popular game show *Let's Make a Deal*. The host of the show (Monty Hall) presents you with three doors - Door A, Door B, and Door C. He tells you that there is a sports car behind one of them and if you choose the correct one, you win the car!\n",
    "\n",
    "You select Door A, but then Monty makes things a little more interesting. He opens Door B to reveal that there is no sports car behind it and asks you if you would like to stick with your choice of Door A or switch your choice to Door C. Given this new information, what are the probabilities of you winning the car if you stick with Door A versus if you switch to Door C?"
   ]
  },
  {
   "cell_type": "code",
   "execution_count": 21,
   "metadata": {},
   "outputs": [
    {
     "name": "stdout",
     "output_type": "stream",
     "text": [
      "Probailidad de que el premio este en puerta A es 33.33333333333333%\n"
     ]
    }
   ],
   "source": [
    "# A = Premio en la puerta A\n",
    "# B = Host abre puera B\n",
    "# C = Premio en puerta B\n",
    "# D = Premio en puerta C\n",
    "\n",
    "#P(A|B) = (P(B|A)*P(A)) / P(B)\n",
    "\n",
    "#P(B|A)*P(A) = (0.5*1/3)\n",
    "\n",
    "#P(B)= P(B|A)+P(A) + P(B|C)+P(C) + P(B|D)+P(D)\n",
    "#P(B)= (0.5*1/3) + (0*1/3)  +  (1*1/3)\n",
    "\n",
    "Premio_A = (0.5*1/3) / ((0.5*1/3) + (0*1/3)  +  (1*1/3))\n",
    "print(f'Probailidad de que el premio este en puerta A es {Premio_A*100}%')"
   ]
  },
  {
   "cell_type": "code",
   "execution_count": 25,
   "metadata": {},
   "outputs": [
    {
     "name": "stdout",
     "output_type": "stream",
     "text": [
      "Probailidad de que el premio este en puerta C es 66.66666666666666%\n"
     ]
    }
   ],
   "source": [
    "# A = Premio en la puerta A\n",
    "# B = Host abre puera B\n",
    "# C = Premio en puerta B\n",
    "# D = Premio en puerta C\n",
    "\n",
    "#P(D|B) = (P(B|D)*P(D)) / P(B)\n",
    "\n",
    "#P(B|D)*P(D) = (1*1/3)\n",
    "\n",
    "#P(B)= P(B|A)+P(A) + P(B|C)+P(C) + P(B|D)+P(D)\n",
    "#P(B)= (0.5*1/3) + (0*1/3)  +  (1*1/3)\n",
    "\n",
    "Premio_C = (1*1/3) / ((0.5*1/3) + (0*1/3)  +  (1*1/3))\n",
    "print(f'Probailidad de que el premio este en puerta C es {Premio_C*100}%')"
   ]
  },
  {
   "cell_type": "markdown",
   "metadata": {},
   "source": [
    "## 4. Bayesian Analysis \n",
    "\n",
    "Suppose you work for a landscaping company, and they want to advertise their service online. They create an ad and sit back waiting for the money to roll in. On the first day, the ad sends 100 visitors to the site and 14 of them sign up for landscaping services. Create a generative model to come up with the posterior distribution and produce a visualization of what the posterior distribution would look like given the observed data."
   ]
  },
  {
   "cell_type": "code",
   "execution_count": 26,
   "metadata": {},
   "outputs": [
    {
     "data": {
      "image/png": "[encoded data removed]",
      "text/plain": [
       "<Figure size 432x288 with 1 Axes>"
      ]
     },
     "metadata": {
      "needs_background": "light"
     },
     "output_type": "display_data"
    }
   ],
   "source": [
    "n_draws = 100000\n",
    "prior = pd.Series(np.random.uniform(0, 1, size=n_draws))\n",
    "\n",
    "def generative_model(param):\n",
    "    result = np.random.binomial(100, param)\n",
    "    return result\n",
    "\n",
    "sim_data = list()\n",
    "\n",
    "for p in prior:\n",
    "    sim_data.append(generative_model(p))\n",
    "    \n",
    "posterior = prior[list(map(lambda x: x == 14, sim_data))]\n",
    "\n",
    "posterior.hist()\n",
    "plt.show()"
   ]
  },
  {
   "cell_type": "markdown",
   "metadata": {},
   "source": [
    "Produce a set of descriptive statistics for the posterior distribution."
   ]
  },
  {
   "cell_type": "code",
   "execution_count": 27,
   "metadata": {},
   "outputs": [
    {
     "data": {
      "text/plain": [
       "count    963.000000\n",
       "mean       0.146855\n",
       "std        0.034431\n",
       "min        0.047309\n",
       "25%        0.121997\n",
       "50%        0.145211\n",
       "75%        0.168976\n",
       "max        0.288857\n",
       "dtype: float64"
      ]
     },
     "execution_count": 27,
     "metadata": {},
     "output_type": "execute_result"
    }
   ],
   "source": [
    "posterior.describe()"
   ]
  },
  {
   "cell_type": "markdown",
   "metadata": {},
   "source": [
    "What is the 90% credible interval range?"
   ]
  },
  {
   "cell_type": "code",
   "execution_count": 31,
   "metadata": {},
   "outputs": [
    {
     "name": "stdout",
     "output_type": "stream",
     "text": [
      "0.08735727369886721 | 0.21901264556521674\n",
      "0.0946761439745664 | 0.20578322684440714\n"
     ]
    }
   ],
   "source": [
    "print(posterior.quantile(.025), '|', posterior.quantile(.975)) #Pregunta sobre el intervalo al 90%\n",
    "print(posterior.quantile(.05), '|', posterior.quantile(.95))"
   ]
  },
  {
   "cell_type": "markdown",
   "metadata": {},
   "source": [
    "What is the Maximum Likelihood Estimate?"
   ]
  },
  {
   "cell_type": "code",
   "execution_count": 29,
   "metadata": {},
   "outputs": [
    {
     "name": "stdout",
     "output_type": "stream",
     "text": [
      "Maximum Likelihood Estimate:  0.15 | 0.1277258566978193\n"
     ]
    }
   ],
   "source": [
    "rounded = posterior.round(2)\n",
    "mode = rounded.mode()[0]\n",
    "probability = list(rounded).count(mode)/len(rounded)\n",
    "print('Maximum Likelihood Estimate: ', mode, '|',probability)"
   ]
  }
 ],
 "metadata": {
  "kernelspec": {
   "display_name": "Python 3",
   "language": "python",
   "name": "python3"
  },
  "language_info": {
   "codemirror_mode": {
    "name": "ipython",
    "version": 3
   },
   "file_extension": ".py",
   "mimetype": "text/x-python",
   "name": "python",
   "nbconvert_exporter": "python",
   "pygments_lexer": "ipython3",
   "version": "3.7.6"
  }
 },
 "nbformat": 4,
 "nbformat_minor": 2
}
